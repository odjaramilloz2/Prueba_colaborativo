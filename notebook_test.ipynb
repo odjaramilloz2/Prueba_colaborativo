{
 "cells": [
  {
   "cell_type": "markdown",
   "id": "34758abd-4933-478f-bb6e-7533dba601ad",
   "metadata": {},
   "source": [
    "# ilustración desde el colaborador\n",
    "\n",
    "odjaramilloz",
    "\n",
    "odjaramilloz2 está modificando esto que pasará?"
    "odjaramilloz\n",
    "\n",
    "Yo empecé a hacer otra cosa que pasará?"
   ]
  }
 ],
 "metadata": {
  "kernelspec": {
   "display_name": "Python 3 (ipykernel)",
   "language": "python",
   "name": "python3"
  },
  "language_info": {
   "codemirror_mode": {
    "name": "ipython",
    "version": 3
   },
   "file_extension": ".py",
   "mimetype": "text/x-python",
   "name": "python",
   "nbconvert_exporter": "python",
   "pygments_lexer": "ipython3",
   "version": "3.11.3"
  }
 },
 "nbformat": 4,
 "nbformat_minor": 5
}
